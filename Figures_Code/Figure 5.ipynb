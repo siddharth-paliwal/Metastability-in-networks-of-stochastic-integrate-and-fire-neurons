{
 "cells": [
  {
   "cell_type": "code",
   "execution_count": 1,
   "id": "e65bb0dc-c8bb-45f1-8c98-899d766ec376",
   "metadata": {},
   "outputs": [],
   "source": [
    "import os\n",
    "import numpy as np\n",
    "import seaborn as sns\n",
    "import matplotlib.pyplot as plt\n",
    "\n",
    "import sys\n",
    "sys.path.insert(1, '../Code')\n",
    "\n",
    "from utility_functions import *\n",
    "from weight_matrix import *\n",
    "from parameters import *\n",
    "from sim_network_EI import sim_network_Perturb\n",
    "from scipy.special import lambertw, exp1, expi, hyp2f1, gamma, gammaincc\n",
    "from scipy import optimize, integrate\n",
    "import mpmath as mp\n",
    "from natsort import natsorted\n",
    "from glob import glob\n",
    "from phi import *\n",
    "from mpl_toolkits.axes_grid1.inset_locator import inset_axes\n",
    "# from hmmlearn import hmm\n"
   ]
  },
  {
   "cell_type": "code",
   "execution_count": 2,
   "id": "7a12713e-12a3-4df5-9d39-0d18073e8176",
   "metadata": {},
   "outputs": [],
   "source": [
    "E = np.arange(0, 2, 0.001)\n",
    "g = np.arange(0, 1, 0.001)\n",
    "J = 8.0\n",
    "theta = np.array([0,1,2,3,4,5])"
   ]
  },
  {
   "cell_type": "code",
   "execution_count": 3,
   "id": "0cb9f0ae-1dcc-4dae-9e86-46abe76bd098",
   "metadata": {},
   "outputs": [
    {
     "name": "stderr",
     "output_type": "stream",
     "text": [
      "/var/folders/7x/_g6cnzvd605glvq83cdzyh1r0000gn/T/ipykernel_43014/2056196615.py:9: ComplexWarning: Casting complex values to real discards the imaginary part\n",
      "  E_plot_phase0[:, i] = J*(1-g) - (1 - lambert0) * (1 + np.exp(J*(1-g) - 1 - theta[i] + lambert0))\n",
      "/var/folders/7x/_g6cnzvd605glvq83cdzyh1r0000gn/T/ipykernel_43014/2056196615.py:10: ComplexWarning: Casting complex values to real discards the imaginary part\n",
      "  E_plot_phase1[:, i] = J*(1-g) - (1 - lambert1) * (1 + np.exp(J*(1-g) - 1 - theta[i] + lambert1))\n"
     ]
    }
   ],
   "source": [
    "# Phase plot\n",
    "E_plot_phase0 = np.zeros((len(g), len(theta)))\n",
    "E_plot_phase1 = np.zeros((len(g), len(theta)))\n",
    "\n",
    "for i in range(len(theta)):\n",
    "\n",
    "    lambert0 = lambertw(-np.exp(theta[i] + 1 - J*(1-g)), 0)\n",
    "    lambert1 = lambertw(-np.exp(theta[i] + 1 - J*(1-g)), -1)\n",
    "    E_plot_phase0[:, i] = J*(1-g) - (1 - lambert0) * (1 + np.exp(J*(1-g) - 1 - theta[i] + lambert0))\n",
    "    E_plot_phase1[:, i] = J*(1-g) - (1 - lambert1) * (1 + np.exp(J*(1-g) - 1 - theta[i] + lambert1))\n",
    "\n",
    "    try:\n",
    "        idxg = np.where(np.abs(J*(1-g) - theta[i] - 2) < 10e-4)[0][0]\n",
    "        E_plot_phase0[idxg:, i] = np.nan\n",
    "        E_plot_phase1[idxg:, i] = np.nan\n",
    "    except:\n",
    "        continue"
   ]
  },
  {
   "cell_type": "code",
   "execution_count": 4,
   "id": "be077401-e0b1-49e7-844b-52fc0c90ccfd",
   "metadata": {},
   "outputs": [],
   "source": [
    "E_fixed = -2.0\n",
    "J_var = np.arange(1, 10, 0.001)\n",
    "\n",
    "gg, JJ = np.meshgrid(g, J_var)\n",
    "\n",
    "lambert0 = np.real(lambertw(-np.exp(theta[1] + 1 - JJ*(1-gg)), 0))\n",
    "lambert1 = np.real(lambertw(-np.exp(theta[1] + 1 - JJ*(1-gg)), -1))\n",
    "fun0 = E_fixed - ( JJ*(1-gg) - (1 - lambert0) * (1 + np.exp(JJ*(1-gg) - 1 - theta[1] + lambert0)) )\n",
    "fun1 = E_fixed - ( JJ*(1-gg) - (1 - lambert1) * (1 + np.exp(JJ*(1-gg) - 1 - theta[1] + lambert1)) )\n",
    "\n",
    "idx0 = np.where(np.abs(fun0) < 10e-4)\n",
    "idx1 = np.where(np.abs(fun1) < 10e-4)"
   ]
  },
  {
   "cell_type": "code",
   "execution_count": 5,
   "id": "55bab86c-942d-4e1e-b610-d3d5bf0eca1d",
   "metadata": {},
   "outputs": [],
   "source": [
    "parameters = network_params()\n",
    "parameters.dt = 0.01\n",
    "parameters.N = 100\n",
    "parameters.nE = 0.8  # Fraction of excitatory neurons\n",
    "parameters.nI = 0.2  # Fraction of inhibotory neurons\n",
    "parameters.NE = int(parameters.nE * parameters.N)  # Number of excitatory neurons\n",
    "parameters.NI = int(parameters.nI * parameters.N)  # Number of inhibitory neuronsparameters.IeE = 1.07\n",
    "parameters.IeE = -2.5\n",
    "parameters.IeI = -2.5\n",
    "parameters.pEE = 1.0\n",
    "parameters.pEI = 1.0\n",
    "parameters.pIE = 1.0\n",
    "parameters.pII = 1.0\n",
    "parameters.wEE = 8.0\n",
    "parameters.scale = 0.4\n",
    "parameters.wIE = parameters.wEE\n",
    "parameters.wEI = parameters.scale * parameters.wEE\n",
    "parameters.wII = parameters.scale * parameters.wEE\n",
    "parameters.tstop = 10\n",
    "parameters.Nt = int(parameters.tstop / parameters.dt)\n",
    "parameters.simPhi = 1.0\n",
    "parameters.Vthres = 1.0\n",
    "\n",
    "t_start_perturb1 = 1\n",
    "t_start_perturb2 = 5\n",
    "t_end_perturb1 = 2\n",
    "t_end_perturb2 = 6\n",
    "perturb_amp = 15.0\n",
    "\n",
    "np.random.seed(894956166)\n",
    "W = get_weight_matrix_Exc_Inh_N(parameters)\n",
    "spkTrain, memVol, gSyn, spkTimes, count = sim_network_Perturb(parameters, W, t_start_perturb1, t_start_perturb2, t_end_perturb1, t_end_perturb2, perturb_amp)\n",
    "\n",
    "t_plot = np.arange(0, parameters.Nt, 1) * parameters.dt"
   ]
  },
  {
   "cell_type": "code",
   "execution_count": 6,
   "id": "6761adc2-8bfc-458a-b5d2-e183d4d58eba",
   "metadata": {},
   "outputs": [],
   "source": [
    "filename = '../Data/Figure 5/300Data_Exp.npz'\n",
    "data = np.load(filename)\n",
    "\n",
    "fr_Sim_L = np.flip(data['arr_0'])\n",
    "fr_Sim_H = np.flip(data['arr_1'])\n",
    "\n",
    "fr_MF_L = np.flip(data['arr_4'])\n",
    "fr_MF_H = np.flip(data['arr_5'])\n",
    "\n",
    "fr_MF_Perturb_L = np.flip(data['arr_8'])\n",
    "fr_MF_Perturb_H = np.flip(data['arr_9'])\n",
    "\n",
    "fr_MF_SC_L = np.flip(data['arr_12'])\n",
    "fr_MF_SC_H = np.flip(data['arr_13'])"
   ]
  },
  {
   "cell_type": "code",
   "execution_count": 7,
   "id": "9706df26-3137-422e-88f7-67a79e273aa8",
   "metadata": {},
   "outputs": [],
   "source": [
    "filename = '../Data/Figure 5/Data_Renewal_Exp_EI.npz'\n",
    "data = np.load(filename)\n",
    "\n",
    "n_Renewal_L = np.flip(data['arr_0'])\n",
    "n_Renewal_H = np.flip(data['arr_1'])\n",
    "\n",
    "n_Renewal_L = np.nan_to_num(n_Renewal_L)\n",
    "n_Renewal_H = np.nan_to_num(n_Renewal_H)"
   ]
  },
  {
   "cell_type": "code",
   "execution_count": 8,
   "id": "d6f484fe-e6cd-4ea8-aef1-eff0fc831945",
   "metadata": {},
   "outputs": [
    {
     "data": {
      "text/plain": [
       "array([-4.  , -3.75, -3.5 , -3.25, -3.  , -2.75, -2.5 , -2.25, -2.  ,\n",
       "       -1.75, -1.5 , -1.25, -1.  , -0.75, -0.5 , -0.25,  0.  ])"
      ]
     },
     "execution_count": 8,
     "metadata": {},
     "output_type": "execute_result"
    }
   ],
   "source": [
    "E_plot = np.arange(-4.0, 0.2, 0.25)\n",
    "E_plot"
   ]
  },
  {
   "cell_type": "code",
   "execution_count": 9,
   "id": "67aeae8d-0188-418b-8081-6019d6a96360",
   "metadata": {},
   "outputs": [
    {
     "name": "stderr",
     "output_type": "stream",
     "text": [
      "\n",
      "KeyboardInterrupt\n",
      "\n"
     ]
    },
    {
     "name": "stdout",
     "output_type": "stream",
     "text": [
      "Error in callback <function _draw_all_if_interactive at 0x113276c00> (for post_execute), with arguments args (),kwargs {}:\n"
     ]
    },
    {
     "name": "stderr",
     "output_type": "stream",
     "text": [
      "\n",
      "KeyboardInterrupt\n",
      "\n"
     ]
    },
    {
     "name": "stdout",
     "output_type": "stream",
     "text": [
      "Error in callback <function flush_figures at 0x1249a6b60> (for post_execute), with arguments args (),kwargs {}:\n"
     ]
    },
    {
     "name": "stderr",
     "output_type": "stream",
     "text": [
      "\n",
      "KeyboardInterrupt\n",
      "\n"
     ]
    }
   ],
   "source": [
    "COLOR = (0., 0., 0.)\n",
    "\n",
    "def color_conv(color_range):\n",
    "    return (COLOR[0] + color_range, COLOR[1], COLOR[2]) \n",
    "\n",
    "\n",
    "fontsize=10\n",
    "J_limL = 1.0\n",
    "J_limH = 10.0\n",
    "g_limL = 0.0\n",
    "g_limH = 1.0\n",
    "E_limL = -5.0\n",
    "E_limH = 4.0\n",
    "\n",
    "f, ax = plt.subplots(2,2,dpi=600,layout='constrained')\n",
    "\n",
    "tt = 1 / len(theta)\n",
    "for i in range(len(theta)):\n",
    "    if i == 0 or i == len(theta)-1:\n",
    "        ax[0, 0].plot(g, E_plot_phase0[:,i], color=color_conv(i*tt), linewidth=2, label='$\\\\theta=$'+str(theta[i]))\n",
    "    else:\n",
    "        ax[0, 0].plot(g, E_plot_phase0[:,i], color=color_conv(i*tt), linewidth=2)\n",
    "\n",
    "    if theta[i] == 1.0:\n",
    "        ax[0, 0].plot(g, E_plot_phase0[:,i], color=color_conv(i*tt), linewidth=4)\n",
    "        ax[0, 0].plot(g, E_plot_phase1[:,i], color=color_conv(i*tt), linewidth=4)\n",
    "    else:\n",
    "        ax[0, 0].plot(g, E_plot_phase1[:,i], color=color_conv(i*tt), linewidth=2)\n",
    "\n",
    "\n",
    "ax[0, 0].set_xlabel('J', fontsize=fontsize)\n",
    "ax[0, 0].set_ylabel('$\\\\mathcal{E}$', fontsize=fontsize)\n",
    "ax[0, 0].text(0.4, -4.5, 'B', fontsize=fontsize)\n",
    "ax[0, 0].text(0.3, 3.0, 'M', fontsize=fontsize)\n",
    "ax[0, 0].plot(0.4, -2.5, 'X', color='orange', markersize=4.0)\n",
    "xticks = [0.0, 0.4, 0.8]\n",
    "yticks = [-5, -0.5, 4.0]\n",
    "ax[0, 0].set_xticks(xticks, xticks, fontsize=fontsize)\n",
    "ax[0, 0].set_yticks(yticks, yticks, fontsize=fontsize)\n",
    "ax[0, 0].set_xlim(g_limL, 0.8)\n",
    "ax[0, 0].set_ylim(E_limL, E_limH)\n",
    "ax[0, 0].legend(frameon=False, loc='upper right', fontsize=fontsize)\n",
    "# ax[0, 0].set_aspect(1./ax[0,0].get_data_ratio())\n",
    "\n",
    "ax[0, 1].plot(g[idx0[1]], J_var[idx0[0]],'k')\n",
    "ax[0, 1].plot(g[idx1[1]], J_var[idx1[0]],'k')\n",
    "ax[0, 1].set_xlabel('g', fontsize=fontsize)\n",
    "ax[0, 1].set_ylabel('J', fontsize=fontsize)\n",
    "ax[0, 1].text(0.3, 7.0, 'B', fontsize=fontsize)\n",
    "ax[0, 1].text(0.1, 9.0, 'M', fontsize=fontsize)\n",
    "ax[0, 1].text(0.7, 5.0, 'M', fontsize=fontsize)\n",
    "# ax[0, 1].set_aspect(1./ax[0,1].get_data_ratio())\n",
    "xticks = [0.0, 0.5, 1.0]\n",
    "yticks = [1, 5.5, 10]\n",
    "ax[0, 1].set_xticks(xticks, xticks, fontsize=fontsize)\n",
    "ax[0, 1].set_yticks(yticks, yticks, fontsize=fontsize)\n",
    "\n",
    "\n",
    "idx = np.argwhere(spkTimes[:,1] <= parameters.NE)\n",
    "ax[1, 0].plot(spkTimes[:,0], spkTimes[:,1], '|', markersize=.8)\n",
    "ax[1, 0].plot(spkTimes[idx,0], spkTimes[idx,1], '|', markersize=.8)\n",
    "ax[1, 0].set_xlabel('Time (ms/{})'.format(r'$\\tau$'), fontsize=fontsize)\n",
    "ax[1, 0].set_ylabel('Neuron #', fontsize=fontsize)\n",
    "# ax[1, 0].set_aspect(1./ax[1,0].get_data_ratio())\n",
    "xticks = [0, 5, 10]\n",
    "yticks = [0, 50, 100]\n",
    "ax[1, 0].set_xticks(xticks, xticks, fontsize=fontsize)\n",
    "ax[1, 0].set_yticks(yticks, yticks, fontsize=fontsize)\n",
    "inset_ax2 = ax[1, 0].inset_axes([0., 1.05, 1.0, 0.2])\n",
    "inset_ax2.plot(t_plot, gSyn, 'k', linewidth=1.0)\n",
    "inset_ax2.set_xticks([])\n",
    "inset_ax2.set_yticks([]) \n",
    "inset_ax2.spines[['left', 'right', 'top', 'bottom']].set_visible(False)\n",
    "\n",
    "\n",
    "idxE = np.where(np.abs((fr_MF_H - fr_MF_L) < 10e-8) & (fr_MF_H > 0.))[0][0]\n",
    "ax[1, 1].plot(E_plot, fr_MF_H, '-g', linewidth=2.0)\n",
    "ax[1, 1].plot(E_plot[0:idxE-1], fr_MF_L[0:idxE-1], '-g', linewidth=2.0, label='MF')\n",
    "ax[1, 1].plot(E_plot, fr_MF_Perturb_H, '-c', linewidth=2.0)\n",
    "ax[1, 1].plot(E_plot[0:idxE-1], fr_MF_Perturb_L[0:idxE-1], '-c', linewidth=2.0, label='1 loop')\n",
    "ax[1, 1].plot(E_plot, n_Renewal_H, '-', color='navy', linewidth=2.0, label='Exact')\n",
    "ax[1, 1].plot(E_plot[0:idxE-1], n_Renewal_L[0:idxE-1], '-', color='navy', linewidth=2.0)\n",
    "ax[1, 1].plot(E_plot, fr_Sim_H, 'o', color='brown',markerfacecolor='None')\n",
    "ax[1, 1].plot(E_plot[0:idxE-1], fr_Sim_L[0:idxE-1], 'o', color='brown',markerfacecolor='None', label='Sim')\n",
    "ax[1, 1].set_xlabel('$\\\\mathcal{E}$', fontsize=fontsize)\n",
    "ax[1, 1].set_ylabel('Firing Rate', fontsize=fontsize)\n",
    "xticks = [-4.0, -2.0, 0.0]\n",
    "yticks = [0.0, 16.0, 36.0]\n",
    "ax[1, 1].set_xticks(xticks, xticks, fontsize=fontsize)\n",
    "ax[1, 1].set_yticks(yticks, yticks, fontsize=fontsize)\n",
    "inset_ax3 = ax[1, 1].inset_axes([0.05, 0.45, 0.30, 0.24])\n",
    "inset_ax3.plot(E_plot[0:idxE-1], fr_Sim_L[0:idxE-1], 'o', color='brown',markerfacecolor='white')\n",
    "inset_ax3.plot(E_plot[0:idxE-1], fr_MF_L[0:idxE-1], '-g', linewidth=2.0, label='MF')\n",
    "inset_ax3.plot(E_plot[0:idxE-1], fr_MF_Perturb_L[0:idxE-1], '-c', linewidth=2.0)\n",
    "inset_ax3.plot(E_plot[0:idxE-1], n_Renewal_L[0:idxE-1], '-', color='navy', linewidth=2.0)\n",
    "xticks = [-4.0, -2.0]\n",
    "yticks = [0., 0.12]\n",
    "inset_ax3.set_xticks(xticks, xticks, fontsize=8)\n",
    "inset_ax3.set_yticks(yticks, yticks, fontsize=8) \n",
    "inset_ax3.yaxis.tick_right()\n",
    "ax[1, 1].legend(frameon=False, loc=[0.7, 0.4],fontsize=7)\n",
    "# ax[1, 1].set_aspect(1./ax[1,1].get_data_ratio())\n",
    "\n",
    "sns.despine(ax=ax[0, 0])\n",
    "sns.despine(ax=ax[0, 1])\n",
    "sns.despine(ax=ax[1, 0])\n",
    "sns.despine(ax=ax[1, 1])\n",
    "\n",
    "f.savefig('./Figures/Figure5.pdf', format='pdf')\n",
    "plt.show()\n"
   ]
  },
  {
   "cell_type": "code",
   "execution_count": null,
   "id": "ee6571dd-160b-4106-bc10-e51238df21c1",
   "metadata": {},
   "outputs": [],
   "source": [
    "J = 4.8\n",
    "fr_MF_SC_L_Resummed = np.zeros((len(E_plot), ))\n",
    "fr_MF_SC_H_Resummed = np.zeros((len(E_plot), ))\n",
    "theta = 1.0\n",
    "dt = 0.001\n",
    "\n",
    "for i in range(len(E_plot)):\n",
    "    E1 = E_plot[i]\n",
    "    V = np.random.uniform(4,6)\n",
    "    n = np.exp(V - theta)\n",
    "    for t in range(1000):\n",
    "\n",
    "        phi = np.exp(V - theta)\n",
    "        D_vnT2 = 0.5 * V**2 / (1 + n + V * phi)\n",
    "        \n",
    "        V += dt * (- V + E1 + (J - V) * n - 0.5 * V**2 * phi**2 / (1 + n + V * phi) )\n",
    "        n = phi * (1 + 0.5 * phi * (np.cosh(D_vnT2) - 1) )\n",
    "\n",
    "    fr_MF_SC_H_Resummed[i] = n\n",
    "\n",
    "        "
   ]
  },
  {
   "cell_type": "code",
   "execution_count": null,
   "id": "46753991-a989-4212-adab-b5d004d03bbd",
   "metadata": {},
   "outputs": [],
   "source": [
    "f, ax = plt.subplots(1,1,dpi=600,layout='constrained')\n",
    "idxE = np.where(np.abs((fr_MF_H - fr_MF_L) < 10e-8) & (fr_MF_H > 0.))[0][0]\n",
    "ax.plot(E_plot, fr_MF_H, '-g', linewidth=2.0)\n",
    "ax.plot(E_plot[0:idxE-1], fr_MF_L[0:idxE-1], '-g', linewidth=2.0, label='MF')\n",
    "ax.plot(E_plot, fr_MF_Perturb_H, '-c', linewidth=2.0)\n",
    "ax.plot(E_plot[0:idxE-1], fr_MF_Perturb_L[0:idxE-1], '-c', linewidth=2.0, label='1 loop')\n",
    "ax.plot(E_plot, fr_MF_SC_H, '-r', linewidth=2.0)\n",
    "ax.plot(E_plot[0:idxE-1], fr_MF_SC_L[0:idxE-1], '-r', linewidth=2.0, label='SC 1 loop')\n",
    "ax.plot(E_plot, fr_MF_SC_H_Resummed, '--r', linewidth=2.0, label='SC 1 loop Resummed')\n",
    "ax.plot(E_plot, n_Renewal_H, '-', color='navy', linewidth=2.0, label='Exact')\n",
    "ax.plot(E_plot[0:idxE-1], n_Renewal_L[0:idxE-1], '-', color='navy', linewidth=2.0)\n",
    "ax.plot(E_plot, fr_Sim_H, 'o', color='brown',markerfacecolor='None')\n",
    "ax.plot(E_plot[0:idxE-1], fr_Sim_L[0:idxE-1], 'o', color='brown',markerfacecolor='None', label='Sim')\n",
    "ax.set_xlabel('$\\\\mathcal{E}$', fontsize=fontsize)\n",
    "ax.set_ylabel('Firing Rate', fontsize=fontsize)\n",
    "xticks = [0.0, 0.75, 1.5]\n",
    "yticks = [0.0, 8.0, 16.0]\n",
    "ax.set_xticks(xticks, xticks, fontsize=fontsize)\n",
    "ax.set_yticks(yticks, yticks, fontsize=fontsize)\n",
    "inset_ax3 = ax.inset_axes([0.02, 0.42, 0.30, 0.25])\n",
    "inset_ax3.plot(E_plot[0:idxE-1], fr_Sim_L[0:idxE-1], 'o', color='brown',markerfacecolor='white')\n",
    "inset_ax3.plot(E_plot[0:idxE-1], fr_MF_L[0:idxE-1], '-g', linewidth=2.0, label='MF')\n",
    "inset_ax3.plot(E_plot[0:idxE-1], fr_MF_Perturb_L[0:idxE-1], '-c', linewidth=2.0)\n",
    "inset_ax3.plot(E_plot[0:idxE-1], n_Renewal_L[0:idxE-1], '-', color='navy', linewidth=2.0)\n",
    "xticks = [0., 0.4]\n",
    "yticks = [0., 0.3]\n",
    "inset_ax3.set_xticks(xticks, xticks, fontsize=8)\n",
    "inset_ax3.set_yticks(yticks, yticks, fontsize=8) \n",
    "inset_ax3.yaxis.tick_right()\n",
    "ax.legend(frameon=False, loc=[0.7, 0.35],fontsize=7)\n",
    "\n",
    "sns.despine(f)"
   ]
  },
  {
   "cell_type": "code",
   "execution_count": null,
   "id": "9190c9a6-f5dd-4eea-9d8f-24400bc08d86",
   "metadata": {},
   "outputs": [],
   "source": []
  }
 ],
 "metadata": {
  "kernelspec": {
   "display_name": "Python 3 (ipykernel)",
   "language": "python",
   "name": "python3"
  },
  "language_info": {
   "codemirror_mode": {
    "name": "ipython",
    "version": 3
   },
   "file_extension": ".py",
   "mimetype": "text/x-python",
   "name": "python",
   "nbconvert_exporter": "python",
   "pygments_lexer": "ipython3",
   "version": "3.12.4"
  }
 },
 "nbformat": 4,
 "nbformat_minor": 5
}
